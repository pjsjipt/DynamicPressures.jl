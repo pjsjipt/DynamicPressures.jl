{
 "cells": [
  {
   "cell_type": "markdown",
   "metadata": {},
   "source": [
    "## A DETAILED DESIGN METHOD FOR PNEUMATIC TUBING SYSTEMS\n",
    "\n",
    "Author: S. J. Gumley\n",
    "\n",
    "Journal of Wind Engineering and Industrial Aerodynamics, vol 13, p 441-452, 1983."
   ]
  },
  {
   "cell_type": "code",
   "execution_count": null,
   "metadata": {},
   "outputs": [],
   "source": [
    "import Pkg\n",
    "Pkg.activate(\".\")"
   ]
  },
  {
   "cell_type": "code",
   "execution_count": null,
   "metadata": {},
   "outputs": [],
   "source": [
    "using SpecialFunctions\n",
    "using PyPlot"
   ]
  },
  {
   "cell_type": "code",
   "execution_count": null,
   "metadata": {},
   "outputs": [],
   "source": [
    "function lertabela(fname)\n",
    "    ll = readlines(fname)\n",
    "    nl = length(ll)\n",
    "    nc = length(split(ll[1]))\n",
    "    tab = zeros(nl, nc)\n",
    "    for i = 1:nl\n",
    "        s = split(ll[i])\n",
    "        for k = 1:2\n",
    "            tab[i,k] = parse(Float64, s[k])\n",
    "        end\n",
    "    end\n",
    "    return tab\n",
    "end\n",
    "\n",
    "\n"
   ]
  },
  {
   "cell_type": "code",
   "execution_count": null,
   "metadata": {},
   "outputs": [],
   "source": [
    "\n",
    "function press_ratio(f, L::Vector{Float64}, D::Vector{Float64}, \n",
    "    V::Vector{Float64}; σ=0.0, γ=1.4, Pr=0.7, μ=1.5e-5, ρ=1.2, \n",
    "    k=1.4, a₀=343.2)\n",
    "    \n",
    "    ω = 2π*f\n",
    "    \n",
    "    N = length(L)\n",
    "    \n",
    "    α = zeros(Complex{Float64}, N)\n",
    "    n = zeros(Complex{Float64}, N)\n",
    "    ϕ = zeros(Complex{Float64}, N)\n",
    "    t1 = zeros(Complex{Float64}, N)\n",
    "    t2 = zeros(Complex{Float64}, N)\n",
    "    t3 = zeros(Complex{Float64}, N)\n",
    "    \n",
    "    R = zeros(N)\n",
    "    i32 = im*sqrt(im) #sqrt(-im)\n",
    "    \n",
    "    s = sqrt(Pr)\n",
    "    for j = 1:N\n",
    "        R[j] = D[j]/2\n",
    "        α[j] = i32 * R[j]*sqrt(ω*ρ/μ)\n",
    "        n[j] = (1 + (γ-1)/γ * besselj(2, α[j]*s)/besselj0(α[j]*s) )^(-1)\n",
    "        ϕ[j] = ω/a₀ * sqrt(besselj0(α[j])/besselj(2, α[j])) * sqrt(γ/n[j])\n",
    "    end\n",
    "    \n",
    "    r = zeros(Complex{Float64}, N)\n",
    "    #r[N+1] = \n",
    "    \n",
    "    \n",
    "    for j = N:-1:1\n",
    "        term1 = cosh(ϕ[j]*L[j])\n",
    "        term2 = V[j]/(π*R[j]^2) * (σ + 1.0/k) * n[j] * ϕ[j] * sinh(ϕ[j]*L[j])\n",
    "        if j==N\n",
    "            term3 = 0.0*im\n",
    "        else\n",
    "            x1 = (R[j+1]/R[j])^2 \n",
    "            x2 = (ϕ[j+1]/ϕ[j])\n",
    "            x3 = (besselj0(α[j]) / besselj0(α[j+1]))\n",
    "            x4 = (besselj(2, α[j+1]) / besselj(2, α[j]))\n",
    "            x5 = sinh(ϕ[j]*L[j]) / sinh(ϕ[j+1]*L[j+1])\n",
    "            \n",
    "            x6 = cosh(ϕ[j+1]*L[j+1]) - 1.0/r[j+1]\n",
    "            term3 = x1 * x2 * x3 * x4 * x5 * x6\n",
    "            \n",
    "        end\n",
    "        #println(term3)\n",
    "        t1[j] = term1\n",
    "        t2[j] = term2\n",
    "        t3[j] = term3\n",
    "        r[j] = term1 + term2 + term3\n",
    "    end\n",
    "    \n",
    "    p = 1.0 + 0.0*im\n",
    "    \n",
    "    for j = 1:N\n",
    "        p *= 1/r[j]\n",
    "    end\n",
    "    \n",
    "    return p\n",
    "end\n",
    "\n",
    "    \n",
    "\n",
    "            \n",
    "    "
   ]
  },
  {
   "cell_type": "code",
   "execution_count": null,
   "metadata": {},
   "outputs": [],
   "source": [
    "function pratio_simple(f, L, D, V; σ=0.0, γ=1.4, Pr=0.7, μ=1.5e-5, ρ=1.09, k=1.4, a₀=343.2)\n",
    "\n",
    "    ω = 2π*f\n",
    "    R = D/2\n",
    "    α = im*sqrt(im) * R * sqrt(ω*ρ/μ)\n",
    "    s = α*sqrt(Pr)\n",
    "    n = ( 1.0 + ((γ-1)/γ) * besselj(2, s) / besselj0(s)  )^(-1)\n",
    "    ϕ = ω/a₀ * sqrt(besselj0(α)/besselj(2,α)) * sqrt(γ/n)\n",
    "    r1 = cosh(ϕ*L)\n",
    "    r2 = V/(π*R^2) * (σ + 1/k)*n*ϕ*sinh(ϕ*L)\n",
    "    #return [r1,r2]\n",
    "    return(1.0/(r1+r2))\n",
    "end"
   ]
  },
  {
   "cell_type": "code",
   "execution_count": null,
   "metadata": {},
   "outputs": [],
   "source": [
    "(press_ratio(100.0, [0.456], [1.5]*0.001*1, [69e-9]) -\n",
    "pratio_simple(100.0, 0.456, 1.5*0.001*1, 69e-9))"
   ]
  },
  {
   "cell_type": "code",
   "execution_count": null,
   "metadata": {},
   "outputs": [],
   "source": [
    "#L = [905, 15, 95] * 0.001 # [1.0]# \n",
    "#V = [0.0, 0.0, 0.0]# [0.0, 100.0] * 1e-9  # \n",
    "#D =  [1, 0.25, 1]*0.001\n",
    "L = [1.0]\n",
    "V = [0.0]\n",
    "D = [0.0011]"
   ]
  },
  {
   "cell_type": "code",
   "execution_count": null,
   "metadata": {},
   "outputs": [],
   "source": [
    "press_ratio(200.0, L, D, V)"
   ]
  },
  {
   "cell_type": "code",
   "execution_count": null,
   "metadata": {},
   "outputs": [],
   "source": [
    "#ratio = lertabela(\"gum-rat.txt\")\n",
    "#phase = lertabela(\"gum-pha.txt\");\n",
    "ratio = lertabela(\"hol-rat.txt\") #Figura 6 do Holmes\n",
    "phase = lertabela(\"hol-pha.txt\");"
   ]
  },
  {
   "cell_type": "code",
   "execution_count": null,
   "metadata": {},
   "outputs": [],
   "source": [
    "function compute_angle(f::AbstractVector, r::AbstractVector)\n",
    "    ϕ = angle.(r)\n",
    "    np = length(f)\n",
    "    \n",
    "    s = 0.0\n",
    "    for i = 2:np\n",
    "        dϕ = (ϕ[i]+s) - ϕ[i-1]\n",
    "        if dϕ > 6\n",
    "            s -= 2π\n",
    "        elseif dϕ < -6\n",
    "            s += 2π\n",
    "        end\n",
    "        ϕ[i] += s\n",
    "    end\n",
    "    return ϕ\n",
    "end"
   ]
  },
  {
   "cell_type": "code",
   "execution_count": null,
   "metadata": {},
   "outputs": [],
   "source": [
    "nf = 800\n",
    "f = 1.0:nf\n",
    "#f = Float64[1:20:500]\n",
    "r = zeros(Complex{Float64}, length(f))\n",
    "r2 = zeros(Complex{Float64}, length(f))\n",
    "V2 = [0.0, 200.0*1e-9]\n",
    "for i = 1:length(f)\n",
    "    \n",
    "    #r[i] = press_ratio(f[i], [0.280, 0.006, 0.170], [1.5, 0.305, 1.5]*0.001, [0.0, 0.0, 69e-9]; σ=0.0)\n",
    "    #r2[i] = press_ratio(f[i], [0.280, 0.007, 0.170], [1.5, 0.305, 1.5]*0.001, [0.0, 0.0, 69e-9]; σ=0.0)\n",
    "    r[i] = press_ratio(f[i], [0.5], [1.5]*0.001*0.999, [257e-9]; σ=0.0)\n",
    "    r2[i] = press_ratio(f[i], [0.5], [1.5]*0.001*0.95, [257e-9]; σ=0.0)\n",
    "    #r2[i] = press_ratio(f[i], [0.5, 0.020], [1.5, 1.0]*0.001, [0.0, 107e-9]; σ=0.0)\n",
    "    \n",
    "    \n",
    "    #r2[i]= press_ratio(f[i], [0.3, 0.02, 0.2], [0.001, 0.0003, 0.001], [0.0, 0.0, 0.0])\n",
    "#    r2[i] = press_ratio(f[i], L, D, V2)\n",
    "end\n",
    "a =  compute_angle(f, r) .* 180/pi;\n",
    "a2 = compute_angle(f, r2) .* 180/pi;\n",
    "\n",
    "\n",
    "\n"
   ]
  },
  {
   "cell_type": "code",
   "execution_count": null,
   "metadata": {},
   "outputs": [],
   "source": [
    "subplot(2, 1, 1)\n",
    "plot(f, abs.(r), \"b-\")\n",
    "#plot(f, abs(r), \"b-\", f, abs.(r2), \"g-\", ratio[:,1], ratio[:,2], \"r--\")\n",
    "subplot(2, 1, 2)\n",
    "plot(f, a, \"b-\")\n",
    "\n"
   ]
  },
  {
   "cell_type": "code",
   "execution_count": null,
   "metadata": {},
   "outputs": [],
   "source": []
  },
  {
   "cell_type": "code",
   "execution_count": null,
   "metadata": {},
   "outputs": [],
   "source": []
  },
  {
   "cell_type": "code",
   "execution_count": null,
   "metadata": {},
   "outputs": [],
   "source": []
  }
 ],
 "metadata": {
  "anaconda-cloud": {},
  "kernelspec": {
   "display_name": "Julia 1.7.2",
   "language": "julia",
   "name": "julia-1.7"
  },
  "language_info": {
   "file_extension": ".jl",
   "mimetype": "application/julia",
   "name": "julia",
   "version": "1.7.2"
  }
 },
 "nbformat": 4,
 "nbformat_minor": 1
}
